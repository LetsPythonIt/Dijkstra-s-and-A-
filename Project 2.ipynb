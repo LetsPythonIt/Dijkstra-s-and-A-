{
 "cells": [
  {
   "cell_type": "markdown",
   "metadata": {},
   "source": [
    "### Algorithm:\n",
    "\n",
    "1. Create a Map with Minkowsky consideration\n",
    "2. Convert Image into Grid\n",
    "3. Apply Dijkstra's Algorithm\n",
    "4. Run Dijkstra's and store video\n",
    "5. Apply A* algorithm\n",
    "6. Run A* and store video"
   ]
  },
  {
   "cell_type": "code",
   "execution_count": 1,
   "metadata": {},
   "outputs": [],
   "source": [
    "import cv2\n",
    "import numpy as np\n",
    "import matplotlib.pyplot as plt"
   ]
  },
  {
   "cell_type": "markdown",
   "metadata": {},
   "source": [
    "### Step1: Create a Map for:\n",
    "    a. Point Robot\n",
    "    b. Rigid Robot"
   ]
  },
  {
   "cell_type": "code",
   "execution_count": 43,
   "metadata": {},
   "outputs": [],
   "source": [
    "class CreateMap:\n",
    "    \n",
    "    def __init__(self, minkowski_required=False, robot_radius=0, clearance=0):\n",
    "        self.minkowski_req = minkowski_required\n",
    "        self.minkowski_dis = robot_radius + clearance\n",
    "    \n",
    "    # Creating the Circular Obstacle.\n",
    "    def inside_a_circle(self, point):\n",
    "        # @ point be in format: [x, y]\n",
    "        x, y = point[0], point[1]\n",
    "        if self.minkowski_req == True:\n",
    "            radius = 15 + self.minkowski_dis\n",
    "        else:\n",
    "            radius = 15\n",
    "\n",
    "        if ((x-20)**2 + (y-190)**2) <= (radius**2):\n",
    "            return True\n",
    "        else:\n",
    "            return False\n",
    "    \n",
    "    # Creating the ellipse obstacle\n",
    "    def inside_an_ellipse(self, point):\n",
    "\n",
    "        x, y = point[0], point[1]\n",
    "\n",
    "        if self.minkowski_req == True:\n",
    "            min_axis = 12 + self.minkowski_dis\n",
    "            maj_axis = 30 + self.minkowski_dis\n",
    "        else:\n",
    "            min_axis = 12\n",
    "            maj_axis = 30\n",
    "\n",
    "        if (((x-30)**2)/min_axis**2 + ((y-140)**2)/maj_axis**2) <= 1:\n",
    "            return True\n",
    "        else:\n",
    "            return False\n",
    "        \n",
    "    # Creating Rectangle Equations; Half Planes.\n",
    "    def inside_a_rectangle(self, point):\n",
    "        x, y = point[0], point[1]\n",
    "\n",
    "        if self.minkowski_req == True:\n",
    "            offset = self.minkowski_dis\n",
    "        else:\n",
    "            offset = 0\n",
    "\n",
    "        if (x<=83.5+offset) and (y<=100+offset) and (x>=33.5-offset) and (y>=50-offset):\n",
    "            return True\n",
    "        else:\n",
    "            return False\n",
    "\n",
    "    # Writing Polygon Equations; Half Planes.\n",
    "    def inside_a_polygon(self, point):\n",
    "        x, y = point[0], point[1]\n",
    "\n",
    "        if self.minkowski_req == True:\n",
    "            offset = self.minkowski_dis\n",
    "        else:\n",
    "            offset = 0\n",
    "\n",
    "        h1 = (x<=135+offset)\n",
    "        h2 = (y<=-0.5405*x+245.97+offset)\n",
    "\n",
    "        h3 = (x>=98)\n",
    "        h9 = (x<=98)\n",
    "\n",
    "        h4 = (y>=-0.35135*x+197.4324)\n",
    "        h10 =(y<=-0.35135*x+197.4324)\n",
    "\n",
    "        h5 = (y<=0.60526*x+133.684+offset)\n",
    "        h6 = (y>=-0.1842*x+181.0526-offset)\n",
    "        h7 = (y<=9.5*x-768+offset)\n",
    "        h8 = (y>=0.609756*x+67.6829-offset)\n",
    "\n",
    "\n",
    "        # Convex Sets\n",
    "        convex_set_1 = h1 and h2 and h3 and h4\n",
    "        convex_set_2 = h5 and h6 and h9\n",
    "        convex_set_3 = h10 and h7 and h8\n",
    "        if convex_set_1 or convex_set_2 or convex_set_3:\n",
    "            return True\n",
    "        else:\n",
    "            return False\n",
    "    \n",
    "    def create_map(self):\n",
    "        # Create a white background\n",
    "        background = np.zeros((150,250,3), np.uint8)# Height, Width: Numpy nomenclature.\n",
    "        background[:,:] = (255, 255, 255)# White Background\n",
    "        \n",
    "        # Returns a Obstacle Map without minkowsky distance.\n",
    "        image_copy = background.copy()\n",
    "        for x in range(150):\n",
    "            for y in range(250):\n",
    "                point = [x, y]\n",
    "                if self.inside_a_circle(point) or self.inside_an_ellipse(point) or self.inside_a_rectangle(point) or self.inside_a_polygon(point):\n",
    "                    image_copy[x,y] = (0,0,0)\n",
    "                else:\n",
    "                    continue\n",
    "        return image_copy\n",
    "\n",
    "    def create_map_minkowski_equations(self):\n",
    "        self.minkowski_req = True\n",
    "        # Create a white background\n",
    "        background = np.zeros((150,250,3), np.uint8)# Height, Width: Numpy nomenclature.\n",
    "        background[:,:] = (255, 255, 255)# White Background\n",
    "        \n",
    "        # Returns a Obstacle Map without minkowsky distance.\n",
    "        map_image_copy = background.copy()\n",
    "        for x in range(150):\n",
    "            for y in range(250):\n",
    "                point = [x, y]\n",
    "                if self.inside_a_circle(point) or self.inside_an_ellipse(point) or self.inside_a_rectangle(point) or self.inside_a_polygon(point):\n",
    "                    map_image_copy[x,y] = (0,0,0)\n",
    "                else:\n",
    "                    continue\n",
    "        return map_image_copy\n",
    "\n",
    "    def create_map_minkowski_contours(self, image):\n",
    "        # @ input image of map without minkowski distance.\n",
    "        # Returns a Obstacle Map without minkowski distance.\n",
    "        map_image_copy = image.copy()\n",
    "        edges = cv2.Canny(map_image_copy,100,200)\n",
    "        contours, hierarchy = cv2.findContours(edges,cv2.RETR_TREE,cv2.CHAIN_APPROX_NONE)\n",
    "        cv2.drawContours(map_image_copy, contours, -1, (0,255,0), 1)\n",
    "        contours = np.array(contours).squeeze()\n",
    "\n",
    "        for shapes in contours:\n",
    "            for contour_of_shape in shapes:\n",
    "                [x,y] = contour_of_shape.squeeze()\n",
    "                rad_circle = self.minkowski_dis\n",
    "                cv2.circle(map_image_copy, (x,y), rad_circle, (0,0,0), -1)\n",
    "        return map_image_copy"
   ]
  },
  {
   "cell_type": "markdown",
   "metadata": {},
   "source": [
    "### Step 2: Convert Image into Grid"
   ]
  },
  {
   "cell_type": "code",
   "execution_count": 52,
   "metadata": {},
   "outputs": [
    {
     "data": {
      "image/png": "[encoded data removed]",
      "text/plain": [
       "<Figure size 432x288 with 1 Axes>"
      ]
     },
     "metadata": {
      "needs_background": "light"
     },
     "output_type": "display_data"
    }
   ],
   "source": [
    "# Creating Map for Point Robot.\n",
    "obj = CreateMap()\n",
    "map_image = obj.create_map()\n",
    "plt.title('Obstacle Map for Point Robot')\n",
    "plt.imshow(map_image)\n",
    "plt.show()"
   ]
  },
  {
   "cell_type": "code",
   "execution_count": 55,
   "metadata": {
    "scrolled": true
   },
   "outputs": [
    {
     "name": "stdout",
     "output_type": "stream",
     "text": [
      "(150, 250, 3)\n"
     ]
    },
    {
     "data": {
      "image/png": "[encoded data removed]",
      "text/plain": [
       "<Figure size 432x288 with 1 Axes>"
      ]
     },
     "metadata": {
      "needs_background": "light"
     },
     "output_type": "display_data"
    }
   ],
   "source": [
    "# Creating Map for Rigid Robot\n",
    "obj = CreateMap(robot_radius=5, clearance =0)\n",
    "minkowski_map = obj.create_map_minkowski_equations()# For using equations to create minkowski map\n",
    "print(minkowski_map.shape)\n",
    "# map_image = obj.create_map()# For using contours to create minkowski map\n",
    "# minkowski_map = obj.create_map_minkowski_contours(map_image)# For using contours to create minkowski map\n",
    "plt.imshow(minkowski_map)\n",
    "plt.title('Obstacle Map for Rigid Robot')\n",
    "plt.show()"
   ]
  },
  {
   "cell_type": "code",
   "execution_count": 109,
   "metadata": {},
   "outputs": [],
   "source": [
    "def convert_to_grid(image, resolution=1):\n",
    "    grid = np.zeros((image.shape[0], image.shape[1]))\n",
    "    # Discretizing the Image in grids\n",
    "    for x in range(image.shape[0]):\n",
    "        for y in range(image.shape[1]):\n",
    "            if image[x][y][1] == 0:\n",
    "                grid[x,y] = 1# grid contains 1 for obstacles.\n",
    "    return grid"
   ]
  },
  {
   "cell_type": "code",
   "execution_count": 148,
   "metadata": {},
   "outputs": [],
   "source": [
    "grid = convert_to_grid(minkowski_map)\n",
    "obstacles = list(np.argwhere(grid == 1))# Storing the coordinates of positions where we have obstacles.\n",
    "# Converting list into tuples for easy access.\n",
    "obstacles_tuples = []\n",
    "for obst in obstacles:\n",
    "    obstacles_tuples.append((obst[0],obst[1]))"
   ]
  },
  {
   "cell_type": "markdown",
   "metadata": {},
   "source": [
    "### Step 3: Dijkstra's Algorithm"
   ]
  },
  {
   "cell_type": "code",
   "execution_count": 149,
   "metadata": {},
   "outputs": [],
   "source": [
    "from collections import namedtuple"
   ]
  },
  {
   "cell_type": "code",
   "execution_count": 156,
   "metadata": {},
   "outputs": [
    {
     "name": "stdout",
     "output_type": "stream",
     "text": [
      "255\n"
     ]
    }
   ],
   "source": [
    "Color = namedtuple('Cddlor', ['red','green','blue'])\n",
    "color = Color(55,155,255)\n",
    "\n",
    "print(color.blue)"
   ]
  },
  {
   "cell_type": "code",
   "execution_count": null,
   "metadata": {},
   "outputs": [],
   "source": []
  },
  {
   "cell_type": "code",
   "execution_count": null,
   "metadata": {},
   "outputs": [],
   "source": []
  },
  {
   "cell_type": "code",
   "execution_count": null,
   "metadata": {},
   "outputs": [],
   "source": []
  },
  {
   "cell_type": "code",
   "execution_count": null,
   "metadata": {},
   "outputs": [],
   "source": []
  },
  {
   "cell_type": "code",
   "execution_count": null,
   "metadata": {},
   "outputs": [],
   "source": []
  },
  {
   "cell_type": "code",
   "execution_count": null,
   "metadata": {},
   "outputs": [],
   "source": []
  },
  {
   "cell_type": "code",
   "execution_count": null,
   "metadata": {},
   "outputs": [],
   "source": []
  },
  {
   "cell_type": "code",
   "execution_count": null,
   "metadata": {},
   "outputs": [],
   "source": []
  },
  {
   "cell_type": "code",
   "execution_count": null,
   "metadata": {},
   "outputs": [],
   "source": []
  },
  {
   "cell_type": "code",
   "execution_count": null,
   "metadata": {},
   "outputs": [],
   "source": []
  },
  {
   "cell_type": "code",
   "execution_count": null,
   "metadata": {},
   "outputs": [],
   "source": []
  },
  {
   "cell_type": "code",
   "execution_count": null,
   "metadata": {},
   "outputs": [],
   "source": []
  },
  {
   "cell_type": "code",
   "execution_count": null,
   "metadata": {},
   "outputs": [],
   "source": []
  },
  {
   "cell_type": "code",
   "execution_count": 5,
   "metadata": {},
   "outputs": [],
   "source": [
    "class PathPlanning:\n",
    "    \n",
    "    # Step 1: Read Inputs\n",
    "    def __init__(self, robot_radius, clearance, resolution, start, goal):\n",
    "        self.radius = robot_radius\n",
    "        self.clearance = clearance\n",
    "        self.resolution = resolution\n",
    "        self.start = start\n",
    "        self.goal = goal\n",
    "    \n",
    "    def give_me_a_line(self, point1, point2):\n",
    "        # @ returns line parameters m and c for two points; y = mx + c\n",
    "        # points expected in format: [x1,y1] and [x2,y2]\n",
    "        try:\n",
    "            m = (point2[1]-point1[1])/(point2[0]-point1[0])\n",
    "            c = (point1[1]*point2[0] - point1[0]*point2[1])/(point2[0]-point1[0])\n",
    "        except:\n",
    "            m = 'x = '\n",
    "            c = point1[0]\n",
    "        return m, c\n",
    "    \n",
    "    # Step 2: Create an image map with cobs as black\n",
    "    def create_obstacles(self):\n",
    "        \n",
    "        # Placing obstacles on the map\n",
    "        background = np.zeros((150,250,3), np.uint8)# 3 - Channels\n",
    "        background[:,:] = (255, 255, 255)# White Background\n",
    "        \n",
    "        # Drawing a rectangle.\n",
    "        cv2.rectangle(background, (50,37), (100,82), (0,0,0), -1)\n",
    "        \n",
    "        # Drawing an ellipse\n",
    "        cv2.ellipse(background,(140, 30),(15,6),0,0,360,(0,0,0),-1)\n",
    "        \n",
    "        # Drawing a circle\n",
    "        cv2.circle(background, (190, 20), 15, (0,0,0), -1)\n",
    "        \n",
    "        # Drawing a polygon\n",
    "        points = np.array([[125,94],[163,98],[170,60],[193,98],[173,135],[150,135]], np.int32)\n",
    "        points = points.reshape((-1,1,2))\n",
    "        cv2.polylines(background,[points], True, (0,0,0))\n",
    "        cv2.fillPoly(background, [points], (0,0,0))\n",
    "        \n",
    "        return background\n",
    "    \n",
    "    # Step 3: Add Minkwoski Distance\n",
    "        "
   ]
  },
  {
   "cell_type": "code",
   "execution_count": 6,
   "metadata": {},
   "outputs": [],
   "source": [
    "robot_radius = 10\n",
    "clearance = 0\n",
    "resolution = 10\n",
    "start = 1\n",
    "goal = 10"
   ]
  },
  {
   "cell_type": "code",
   "execution_count": 16,
   "metadata": {},
   "outputs": [
    {
     "name": "stdout",
     "output_type": "stream",
     "text": [
      "0.6097560975609756 67.6829268292683\n"
     ]
    }
   ],
   "source": [
    "obj = PathPlanning(robot_radius, clearance, resolution, start, goal)\n",
    "point1 = [135,150]\n",
    "point2 = [135,173]\n",
    "point3 = [98,193]\n",
    "point4 = [60,170]\n",
    "point5 = [98,163]\n",
    "point6 = [94,125]\n",
    "\n",
    "m,c = obj.give_me_a_line(point6,point1)\n",
    "print(m, c)\n",
    "\n",
    "# cv2.imshow('MAP',MAP)\n",
    "# cv2.waitKey(0)\n",
    "# cv2.destroyAllWindows()"
   ]
  },
  {
   "cell_type": "code",
   "execution_count": null,
   "metadata": {},
   "outputs": [],
   "source": []
  }
 ],
 "metadata": {
  "kernelspec": {
   "display_name": "Python 3",
   "language": "python",
   "name": "python3"
  },
  "language_info": {
   "codemirror_mode": {
    "name": "ipython",
    "version": 3
   },
   "file_extension": ".py",
   "mimetype": "text/x-python",
   "name": "python",
   "nbconvert_exporter": "python",
   "pygments_lexer": "ipython3",
   "version": "3.5.2"
  }
 },
 "nbformat": 4,
 "nbformat_minor": 2
}
